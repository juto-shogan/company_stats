{
 "cells": [
  {
   "cell_type": "markdown",
   "metadata": {},
   "source": [
    "Data cleaning and review"
   ]
  },
  {
   "cell_type": "code",
   "execution_count": 10,
   "metadata": {},
   "outputs": [],
   "source": [
    "import seaborn as sns\n",
    "import pandas as pd\n",
    "import csv\n",
    "import numpy as np\n",
    "import datetime\n",
    "import matplotlib.pyplot as plt"
   ]
  },
  {
   "cell_type": "code",
   "execution_count": 11,
   "metadata": {},
   "outputs": [
    {
     "name": "stdout",
     "output_type": "stream",
     "text": [
      "   Row ID        Order ID  Order Date   Ship Date       Ship Mode Customer ID  \\\n",
      "0       1  CA-2016-152156   11/8/2016  11/11/2016    Second Class    CG-12520   \n",
      "1       2  CA-2016-152156   11/8/2016  11/11/2016    Second Class    CG-12520   \n",
      "2       4  US-2015-108966  10/11/2015  10/18/2015  Standard Class    SO-20335   \n",
      "3       6  CA-2014-115812    6/9/2014   6/14/2014  Standard Class    BH-11710   \n",
      "4      11  CA-2014-115812    6/9/2014   6/14/2014  Standard Class    BH-11710   \n",
      "\n",
      "     Customer Name   Segment        Country             City  ... Postal Code  \\\n",
      "0      Claire Gute  Consumer  United States        Henderson  ...       42420   \n",
      "1      Claire Gute  Consumer  United States        Henderson  ...       42420   \n",
      "2   Sean O'Donnell  Consumer  United States  Fort Lauderdale  ...       33311   \n",
      "3  Brosina Hoffman  Consumer  United States      Los Angeles  ...       90032   \n",
      "4  Brosina Hoffman  Consumer  United States      Los Angeles  ...       90032   \n",
      "\n",
      "   Region       Product ID   Category Sub-Category  \\\n",
      "0   South  FUR-BO-10001798  Furniture    Bookcases   \n",
      "1   South  FUR-CH-10000454  Furniture       Chairs   \n",
      "2   South  FUR-TA-10000577  Furniture       Tables   \n",
      "3    West  FUR-FU-10001487  Furniture  Furnishings   \n",
      "4    West  FUR-TA-10001539  Furniture       Tables   \n",
      "\n",
      "                                        Product Name      Sales  Quantity  \\\n",
      "0                  Bush Somerset Collection Bookcase   261.9600         2   \n",
      "1  Hon Deluxe Fabric Upholstered Stacking Chairs,...   731.9400         3   \n",
      "2      Bretford CR4500 Series Slim Rectangular Table   957.5775         5   \n",
      "3  Eldon Expressions Wood and Plastic Desk Access...    48.8600         7   \n",
      "4           Chromcraft Rectangular Conference Tables  1706.1840         9   \n",
      "\n",
      "   Discount    Profit  \n",
      "0      0.00   41.9136  \n",
      "1      0.00  219.5820  \n",
      "2      0.45 -383.0310  \n",
      "3      0.00   14.1694  \n",
      "4      0.20   85.3092  \n",
      "\n",
      "[5 rows x 21 columns]\n"
     ]
    }
   ],
   "source": [
    "folder_path = \"/home/bruut/Desktop/Test_dump/python_learn/python/work_i/assignment2.csv\"\n",
    "dataframe = pd.read_csv(folder_path)\n",
    "print(dataframe.head())"
   ]
  },
  {
   "cell_type": "markdown",
   "metadata": {},
   "source": [
    "STATISTICS OF DATA"
   ]
  },
  {
   "cell_type": "code",
   "execution_count": 19,
   "metadata": {},
   "outputs": [
    {
     "name": "stdout",
     "output_type": "stream",
     "text": [
      "             Row ID        Order ID Order Date  Ship Date       Ship Mode  \\\n",
      "count   2121.000000            2121       2121       2121            2121   \n",
      "unique          NaN            1764        889        960               4   \n",
      "top             NaN  CA-2016-157749   9/5/2016  12/6/2017  Standard Class   \n",
      "freq            NaN               4         10         10            1248   \n",
      "mean    5041.643564             NaN        NaN        NaN             NaN   \n",
      "std     2885.740258             NaN        NaN        NaN             NaN   \n",
      "min        1.000000             NaN        NaN        NaN             NaN   \n",
      "25%     2568.000000             NaN        NaN        NaN             NaN   \n",
      "50%     5145.000000             NaN        NaN        NaN             NaN   \n",
      "75%     7534.000000             NaN        NaN        NaN             NaN   \n",
      "max     9991.000000             NaN        NaN        NaN             NaN   \n",
      "\n",
      "       Customer ID Customer Name   Segment        Country           City  ...  \\\n",
      "count         2121          2121      2121           2121           2121  ...   \n",
      "unique         707           707         3              1            371  ...   \n",
      "top       SV-20365   Seth Vernon  Consumer  United States  New York City  ...   \n",
      "freq            15            15      1113           2121            192  ...   \n",
      "mean           NaN           NaN       NaN            NaN            NaN  ...   \n",
      "std            NaN           NaN       NaN            NaN            NaN  ...   \n",
      "min            NaN           NaN       NaN            NaN            NaN  ...   \n",
      "25%            NaN           NaN       NaN            NaN            NaN  ...   \n",
      "50%            NaN           NaN       NaN            NaN            NaN  ...   \n",
      "75%            NaN           NaN       NaN            NaN            NaN  ...   \n",
      "max            NaN           NaN       NaN            NaN            NaN  ...   \n",
      "\n",
      "         Postal Code  Region       Product ID   Category Sub-Category  \\\n",
      "count    2121.000000    2121             2121       2121         2121   \n",
      "unique           NaN       4              375          1            4   \n",
      "top              NaN    West  FUR-FU-10004270  Furniture  Furnishings   \n",
      "freq             NaN     707               16       2121          957   \n",
      "mean    55726.556341     NaN              NaN        NaN          NaN   \n",
      "std     32261.888225     NaN              NaN        NaN          NaN   \n",
      "min      1040.000000     NaN              NaN        NaN          NaN   \n",
      "25%     22801.000000     NaN              NaN        NaN          NaN   \n",
      "50%     60505.000000     NaN              NaN        NaN          NaN   \n",
      "75%     90032.000000     NaN              NaN        NaN          NaN   \n",
      "max     99301.000000     NaN              NaN        NaN          NaN   \n",
      "\n",
      "                      Product Name        Sales     Quantity     Discount  \\\n",
      "count                         2121  2015.000000  2121.000000  2015.000000   \n",
      "unique                         380          NaN          NaN          NaN   \n",
      "top     KI Adjustable-Height Table          NaN          NaN          NaN   \n",
      "freq                            18          NaN          NaN          NaN   \n",
      "mean                           NaN   355.026021     3.785007     0.174362   \n",
      "std                            NaN   508.761579     2.251620     0.181115   \n",
      "min                            NaN     1.892000     1.000000     0.000000   \n",
      "25%                            NaN    47.400000     2.000000     0.000000   \n",
      "50%                            NaN   183.968000     3.000000     0.200000   \n",
      "75%                            NaN   445.935000     5.000000     0.300000   \n",
      "max                            NaN  4416.174000    14.000000     0.700000   \n",
      "\n",
      "             Profit  \n",
      "count   2121.000000  \n",
      "unique          NaN  \n",
      "top             NaN  \n",
      "freq            NaN  \n",
      "mean       8.699327  \n",
      "std      136.049246  \n",
      "min    -1862.312400  \n",
      "25%      -12.849000  \n",
      "50%        7.774800  \n",
      "75%       33.726600  \n",
      "max     1013.127000  \n",
      "\n",
      "[11 rows x 21 columns]\n"
     ]
    }
   ],
   "source": [
    "def analyze_sales_data(file_path):\n",
    "\n",
    "  try:\n",
    "      df = pd.read_csv(file_path)\n",
    "  except FileNotFoundError:\n",
    "      print(f\"Error: File not found at {file_path}\")\n",
    "      return\n",
    "\n",
    "\n",
    "  print(df.describe(include='all'))\n",
    "\n",
    "\n",
    "analyze_sales_data(folder_path)\n"
   ]
  },
  {
   "cell_type": "markdown",
   "metadata": {},
   "source": [
    "To number and locate the missing rows"
   ]
  },
  {
   "cell_type": "code",
   "execution_count": 27,
   "metadata": {},
   "outputs": [
    {
     "name": "stdout",
     "output_type": "stream",
     "text": [
      "212\n"
     ]
    }
   ],
   "source": [
    "# Find the number of missing Data\n",
    "empty_cells = dataframe.isnull()\n",
    "print(empty_cells.sum().sum())"
   ]
  },
  {
   "cell_type": "code",
   "execution_count": 28,
   "metadata": {},
   "outputs": [
    {
     "name": "stdout",
     "output_type": "stream",
     "text": [
      "Empty cell found in row: ['126', 'US-2014-134614', '9/20/2014', '9/25/2014', 'Standard Class', 'PF-19165', 'Philip Fox', 'Consumer', 'United States', 'Bloomington', 'Illinois', '61701', 'Central', 'FUR-TA-10004534', 'Furniture', 'Tables', 'Bevis 44 x 96 Conference Tables', '', '6', '', '-407.682']\n",
      "Empty cell found in row: ['235', 'US-2017-100930', '4/7/2017', '4/12/2017', 'Standard Class', 'CS-12400', 'Christopher Schild', 'Home Office', 'United States', 'Tampa', 'Florida', '33614', 'South', 'FUR-FU-10004017', 'Furniture', 'Furnishings', 'Tenex Contemporary Contur Chairmats for Low and Medium Pile Carpet, Computer, 39\" x 49\"', '', '3', '', '0.0']\n",
      "Empty cell found in row: ['305', 'CA-2015-144253', '5/4/2015', '5/9/2015', 'Second Class', 'AS-10225', 'Alan Schoenberger', 'Corporate', 'United States', 'New York City', 'New York', '10024', 'East', 'FUR-FU-10002671', 'Furniture', 'Furnishings', 'Electrix 20W Halogen Replacement Bulb for Zoom-In Desk Lamp', '', '2', '', '12.864']\n",
      "Empty cell found in row: ['312', 'CA-2016-142902', '9/12/2016', '9/14/2016', 'Second Class', 'BP-11185', 'Ben Peterman', 'Corporate', 'United States', 'Arvada', 'Colorado', '80004', 'West', 'FUR-FU-10001756', 'Furniture', 'Furnishings', 'Eldon Expressions Desk Accessory, Wood Photo Frame, Mahogany', '', '1', '', '1.7136']\n",
      "Empty cell found in row: ['500', 'CA-2016-126158', '7/25/2016', '7/31/2016', 'Standard Class', 'SC-20095', 'Sanjit Chand', 'Consumer', 'United States', 'Costa Mesa', 'California', '92627', 'West', 'FUR-FU-10000073', 'Furniture', 'Furnishings', 'Deflect-O Glasstique Clear Desk Accessories', '', '9', '', '22.869']\n",
      "Empty cell found in row: ['511', 'CA-2017-135307', '11/26/2017', '11/27/2017', 'First Class', 'LS-17245', 'Lynn Smith', 'Consumer', 'United States', 'Gladstone', 'Missouri', '64118', 'Central', 'FUR-FU-10001290', 'Furniture', 'Furnishings', 'Executive Impressions Supervisor Wall Clock', '', '3', '', '40.416']\n",
      "Empty cell found in row: ['1017', 'CA-2015-108665', '7/6/2015', '7/10/2015', 'Standard Class', 'KM-16225', 'Kalyca Meade', 'Corporate', 'United States', 'New York City', 'New York', '10011', 'East', 'FUR-FU-10002191', 'Furniture', 'Furnishings', 'G.E. Halogen Desk Lamp Bulbs', '', '2', '', '6.7008']\n",
      "Empty cell found in row: ['1124', 'US-2014-147627', '1/20/2014', '1/26/2014', 'Standard Class', 'HL-15040', 'Hunter Lopez', 'Consumer', 'United States', 'Jonesboro', 'Arkansas', '72401', 'South', 'FUR-FU-10003194', 'Furniture', 'Furnishings', 'Eldon Expressions Desk Accessory, Wood Pencil Holder, Oak', '', '4', '', '11.58']\n",
      "Empty cell found in row: ['1158', 'CA-2014-136567', '12/20/2014', '12/21/2014', 'First Class', 'PS-19045', 'Penelope Sewall', 'Home Office', 'United States', 'Harrisonburg', 'Virginia', '22801', 'South', 'FUR-TA-10000617', 'Furniture', 'Tables', 'Hon Practical Foundations 30 x 60 Training Table, Light Gray/Charcoal', '', '2', '', '100.122']\n",
      "Empty cell found in row: ['1159', 'CA-2016-149314', '7/2/2016', '7/7/2016', 'Second Class', 'GB-14530', 'George Bell', 'Corporate', 'United States', 'Los Angeles', 'California', '90004', 'West', 'FUR-CH-10002126', 'Furniture', 'Chairs', 'Hon Deluxe Fabric Upholstered Stacking Chairs', '', '1', '', '19.5184']\n",
      "Empty cell found in row: ['1235', 'CA-2016-144344', '10/28/2016', '10/28/2016', 'Same Day', 'PG-18820', 'Patrick Gardner', 'Consumer', 'United States', 'Boynton Beach', 'Florida', '33437', 'South', 'FUR-FU-10000076', 'Furniture', 'Furnishings', '24-Hour Round Wall Clock', '', '3', '', '13.7862']\n",
      "Empty cell found in row: ['1386', 'US-2016-108504', '2/5/2016', '2/5/2016', 'Same Day', 'PP-18955', 'Paul Prost', 'Home Office', 'United States', 'Smyrna', 'Georgia', '30080', 'South', 'FUR-FU-10004091', 'Furniture', 'Furnishings', 'Eldon 200 Class Desk Accessories, Black', '', '3', '', '7.1592']\n",
      "Empty cell found in row: ['1413', 'CA-2016-136329', '7/9/2016', '7/13/2016', 'Standard Class', 'JD-15895', 'Jonathan Doherty', 'Corporate', 'United States', 'New York City', 'New York', '10035', 'East', 'FUR-FU-10000723', 'Furniture', 'Furnishings', 'Deflect-o EconoMat Studded, No Bevel Mat for Low Pile Carpeting', '', '4', '', '14.8752']\n",
      "Empty cell found in row: ['1416', 'CA-2017-115994', '1/28/2017', '1/31/2017', 'Second Class', 'BT-11305', 'Beth Thompson', 'Home Office', 'United States', 'Costa Mesa', 'California', '92627', 'West', 'FUR-FU-10003976', 'Furniture', 'Furnishings', 'DAX Executive Solid Wood Document Frame, Desktop or Hang, Mahogany, 5 x 7', '', '3', '', '12.8316']\n",
      "Empty cell found in row: ['1464', 'CA-2016-152289', '8/26/2016', '8/28/2016', 'First Class', 'LC-16930', 'Linda Cazamias', 'Corporate', 'United States', 'Pasadena', 'Texas', '77506', 'Central', 'FUR-CH-10002126', 'Furniture', 'Chairs', 'Hon Deluxe Fabric Upholstered Stacking Chairs', '', '6', '', '-29.2776']\n",
      "Empty cell found in row: ['1510', 'CA-2017-103611', '9/12/2017', '9/15/2017', 'First Class', 'JM-15535', 'Jessica Myrick', 'Consumer', 'United States', 'Los Angeles', 'California', '90036', 'West', 'FUR-FU-10004270', 'Furniture', 'Furnishings', 'Eldon Image Series Desk Accessories, Burgundy', '', '2', '', '3.0096']\n",
      "Empty cell found in row: ['1799', 'CA-2016-100965', '7/7/2016', '7/11/2016', 'Standard Class', 'RM-19375', 'Raymond Messe', 'Consumer', 'United States', 'San Jose', 'California', '95123', 'West', 'FUR-FU-10003039', 'Furniture', 'Furnishings', 'Howard Miller 11-1/2\" Diameter Grantwood Wall Clock', '', '5', '', '73.321']\n",
      "Empty cell found in row: ['1802', 'CA-2016-149461', '11/13/2016', '11/19/2016', 'Standard Class', 'AS-10135', 'Adrian Shami', 'Home Office', 'United States', 'Auburn', 'Washington', '98002', 'West', 'FUR-FU-10004270', 'Furniture', 'Furnishings', 'Eldon Image Series Desk Accessories, Burgundy', '', '1', '', '1.5048']\n",
      "Empty cell found in row: ['1842', 'CA-2016-157763', '7/18/2016', '7/23/2016', 'Standard Class', 'KH-16330', 'Katharine Harms', 'Corporate', 'United States', 'Bowling Green', 'Kentucky', '42104', 'South', 'FUR-CH-10000988', 'Furniture', 'Chairs', 'Hon Olson Stacker Stools', '', '1', '', '39.4268']\n",
      "Empty cell found in row: ['1844', 'CA-2015-135391', '2/9/2015', '2/11/2015', 'Second Class', 'FA-14230', 'Frank Atkinson', 'Corporate', 'United States', 'San Antonio', 'Texas', '78207', 'Central', 'FUR-FU-10001986', 'Furniture', 'Furnishings', 'Dana Fluorescent Magnifying Lamp, White, 36\"', '', '2', '', '-30.588']\n",
      "Empty cell found in row: ['1847', 'US-2017-158512', '1/12/2017', '1/17/2017', 'Second Class', 'DA-13450', 'Dianna Arnett', 'Home Office', 'United States', 'Washington', 'District of Columbia', '20016', 'East', 'FUR-FU-10004973', 'Furniture', 'Furnishings', 'Flat Face Poster Frame', '', '2', '', '15.8256']\n",
      "Empty cell found in row: ['1978', 'CA-2014-110408', '10/18/2014', '10/20/2014', 'Second Class', 'AS-10225', 'Alan Schoenberger', 'Corporate', 'United States', 'Montgomery', 'Alabama', '36116', 'South', 'FUR-CH-10003774', 'Furniture', 'Chairs', \"Global Wood Trimmed Manager's Task Chair, Khaki\", '', '6', '', '70.9644']\n",
      "Empty cell found in row: ['1980', 'CA-2016-112669', '4/14/2016', '4/14/2016', 'Same Day', 'KT-16465', 'Kean Takahito', 'Consumer', 'United States', 'Glendale', 'Arizona', '85301', 'West', 'FUR-CH-10004086', 'Furniture', 'Chairs', 'Hon 4070 Series Pagoda Armless Upholstered Stacking Chairs', '', '4', '', '105.0228']\n",
      "Empty cell found in row: ['2066', 'CA-2014-106439', '10/31/2014', '11/4/2014', 'Standard Class', 'GG-14650', 'Greg Guthrie', 'Corporate', 'United States', 'Los Angeles', 'California', '90049', 'West', 'FUR-CH-10003833', 'Furniture', 'Chairs', 'Novimex Fabric Task Chair', '', '3', '', '-9.147']\n",
      "Empty cell found in row: ['2092', 'CA-2017-166142', '7/15/2017', '7/19/2017', 'Standard Class', 'MM-17260', 'Magdelene Morse', 'Consumer', 'United States', 'Wilmington', 'Delaware', '19805', 'East', 'FUR-TA-10004607', 'Furniture', 'Tables', 'Hon 2111 Invitation Series Straight Table', '', '3', '', '-48.7839']\n",
      "Empty cell found in row: ['2149', 'CA-2014-141607', '12/12/2014', '12/17/2014', 'Standard Class', 'WB-21850', 'William Brown', 'Consumer', 'United States', 'Concord', 'California', '94521', 'West', 'FUR-FU-10003975', 'Furniture', 'Furnishings', 'Eldon Advantage Chair Mats for Low to Medium Pile Carpets', '', '1', '', '4.331']\n",
      "Empty cell found in row: ['2257', 'CA-2016-164091', '9/17/2016', '9/22/2016', 'Standard Class', 'LA-16780', 'Laura Armstrong', 'Corporate', 'United States', 'Bangor', 'Maine', '4401', 'East', 'FUR-FU-10004952', 'Furniture', 'Furnishings', 'C-Line Cubicle Keepers Polyproplyene Holder w/Velcro Back, 8-1/2x11, 25/Bx', '', '2', '', '33.9388']\n",
      "Empty cell found in row: ['2280', 'CA-2017-142622', '10/30/2017', '11/2/2017', 'First Class', 'JK-15625', 'Jim Karlsson', 'Consumer', 'United States', 'Seattle', 'Washington', '98115', 'West', 'FUR-CH-10003833', 'Furniture', 'Chairs', 'Novimex Fabric Task Chair', '', '2', '', '-6.098']\n",
      "Empty cell found in row: ['2304', 'CA-2017-157931', '9/17/2017', '9/22/2017', 'Second Class', 'MO-17800', \"Meg O'Connel\", 'Home Office', 'United States', 'Roswell', 'Georgia', '30076', 'South', 'FUR-CH-10000785', 'Furniture', 'Chairs', 'Global Ergonomic Managers Chair', '', '4', '', '188.2192']\n",
      "Empty cell found in row: ['2375', 'CA-2016-159940', '7/7/2016', '7/11/2016', 'Second Class', 'BF-11020', 'Barry Franz\\x9asisch', 'Corporate', 'United States', 'Aurora', 'Illinois', '60505', 'Central', 'FUR-CH-10000785', 'Furniture', 'Chairs', 'Global Ergonomic Managers Chair', '', '2', '', '-14.4784']\n",
      "Empty cell found in row: ['2382', 'CA-2016-118052', '5/6/2016', '5/10/2016', 'Standard Class', 'BE-11455', 'Brad Eason', 'Home Office', 'United States', 'Lorain', 'Ohio', '44052', 'East', 'FUR-FU-10004848', 'Furniture', 'Furnishings', 'DAX Solid Wood Frames', '', '7', '', '11.6263']\n",
      "Empty cell found in row: ['2709', 'CA-2015-121797', '1/30/2015', '2/6/2015', 'Standard Class', 'CC-12145', 'Charles Crestani', 'Consumer', 'United States', 'Los Angeles', 'California', '90049', 'West', 'FUR-FU-10001876', 'Furniture', 'Furnishings', 'Computer Room Manger, 14\"', '', '7', '', '81.8496']\n",
      "Empty cell found in row: ['2806', 'CA-2015-122623', '9/7/2015', '9/11/2015', 'Standard Class', 'CC-12145', 'Charles Crestani', 'Consumer', 'United States', 'El Paso', 'Texas', '79907', 'Central', 'FUR-CH-10000553', 'Furniture', 'Chairs', 'Metal Folding Chairs, Beige, 4/Carton', '', '2', '', '-2.0364']\n",
      "Empty cell found in row: ['2921', 'CA-2016-160129', '11/23/2016', '11/23/2016', 'Same Day', 'LS-17200', 'Luke Schmidt', 'Corporate', 'United States', 'Philadelphia', 'Pennsylvania', '19140', 'East', 'FUR-FU-10003976', 'Furniture', 'Furnishings', 'DAX Executive Solid Wood Document Frame, Desktop or Hang, Mahogany, 5 x 7', '', '7', '', '12.3284']\n",
      "Empty cell found in row: ['3051', 'US-2017-148054', '10/6/2017', '10/11/2017', 'Standard Class', 'NZ-18565', 'Nick Zandusky', 'Home Office', 'United States', 'Meridian', 'Idaho', '83642', 'West', 'FUR-FU-10003247', 'Furniture', 'Furnishings', '36X48 HARDFLOOR CHAIRMAT', '', '2', '', '2.9372']\n",
      "Empty cell found in row: ['3072', 'CA-2014-119375', '11/17/2014', '11/22/2014', 'Standard Class', 'YC-21895', 'Yoseph Carroll', 'Corporate', 'United States', 'Newark', 'Delaware', '19711', 'East', 'FUR-FU-10002379', 'Furniture', 'Furnishings', 'Eldon Econocleat Chair Mats for Low Pile Carpets', '', '3', '', '14.9292']\n",
      "Empty cell found in row: ['3180', 'CA-2017-105235', '12/5/2017', '12/11/2017', 'Standard Class', 'SM-20950', 'Suzanne McNair', 'Corporate', 'United States', 'New York City', 'New York', '10011', 'East', 'FUR-FU-10000521', 'Furniture', 'Furnishings', 'Seth Thomas 14\" Putty-Colored Wall Clock', '', '2', '', '18.1908']\n",
      "Empty cell found in row: ['3312', 'CA-2016-162747', '3/20/2016', '3/25/2016', 'Second Class', 'AH-10030', 'Aaron Hawkins', 'Corporate', 'United States', 'Gulfport', 'Mississippi', '39503', 'South', 'FUR-FU-10003691', 'Furniture', 'Furnishings', 'Eldon Image Series Desk Accessories, Ebony', '', '7', '', '38.038']\n",
      "Empty cell found in row: ['3497', 'CA-2016-107328', '8/8/2016', '8/15/2016', 'Standard Class', 'CA-12055', 'Cathy Armstrong', 'Home Office', 'United States', 'Los Angeles', 'California', '90036', 'West', 'FUR-TA-10001932', 'Furniture', 'Tables', 'Chromcraft 48\" x 96\" Racetrack Double Pedestal Table', '', '2', '', '12.8256']\n",
      "Empty cell found in row: ['3543', 'CA-2016-157511', '9/18/2016', '9/20/2016', 'First Class', 'SV-20365', 'Seth Vernon', 'Consumer', 'United States', 'Columbus', 'Ohio', '43229', 'East', 'FUR-CH-10002647', 'Furniture', 'Chairs', 'Situations Contoured Folding Chairs, 4/Set', '', '2', '', '-7.098']\n",
      "Empty cell found in row: ['3605', 'CA-2017-112956', '8/21/2017', '8/27/2017', 'Standard Class', 'TH-21550', 'Tracy Hopkins', 'Home Office', 'United States', 'Columbia', 'Maryland', '21044', 'East', 'FUR-FU-10003976', 'Furniture', 'Furnishings', 'DAX Executive Solid Wood Document Frame, Desktop or Hang, Mahogany, 5 x 7', '', '2', '', '8.5544']\n",
      "Empty cell found in row: ['3796', 'US-2014-117163', '1/27/2014', '2/2/2014', 'Standard Class', 'EJ-13720', 'Ed Jacobs', 'Consumer', 'United States', 'San Diego', 'California', '92037', 'West', 'FUR-TA-10003469', 'Furniture', 'Tables', 'Balt Split Level Computer Training Table', '', '3', '', '-16.65']\n",
      "Empty cell found in row: ['4226', 'US-2014-102631', '12/13/2014', '12/17/2014', 'Standard Class', 'EB-13840', 'Ellis Ballard', 'Corporate', 'United States', 'Chicago', 'Illinois', '60623', 'Central', 'FUR-FU-10003930', 'Furniture', 'Furnishings', 'Howard Miller 12-3/4 Diameter Accuwave DS  Wall Clock', '', '3', '', '-42.4926']\n",
      "Empty cell found in row: ['4452', 'CA-2016-147137', '7/4/2016', '7/6/2016', 'First Class', 'AA-10645', 'Anna Andreadi', 'Consumer', 'United States', 'San Francisco', 'California', '94109', 'West', 'FUR-FU-10000221', 'Furniture', 'Furnishings', 'Master Caster Door Stop, Brown', '', '5', '', '8.636']\n",
      "Empty cell found in row: ['4474', 'CA-2017-121300', '9/29/2017', '9/29/2017', 'Same Day', 'MG-17680', 'Maureen Gastineau', 'Home Office', 'United States', 'Mentor', 'Ohio', '44060', 'East', 'FUR-TA-10004442', 'Furniture', 'Tables', 'Riverside Furniture Stanwyck Manor Table Series', '', '2', '', '-189.321']\n",
      "Empty cell found in row: ['4611', 'US-2017-141852', '11/9/2017', '11/14/2017', 'Standard Class', 'JE-15745', 'Joel Eaton', 'Consumer', 'United States', 'Oceanside', 'California', '92054', 'West', 'FUR-FU-10000023', 'Furniture', 'Furnishings', 'Eldon Wave Desk Accessories', '', '8', '', '20.7328']\n",
      "Empty cell found in row: ['4626', 'CA-2017-147228', '9/9/2017', '9/14/2017', 'Standard Class', 'SO-20335', \"Sean O'Donnell\", 'Consumer', 'United States', 'Columbia', 'Tennessee', '38401', 'South', 'FUR-FU-10000023', 'Furniture', 'Furnishings', 'Eldon Wave Desk Accessories', '', '3', '', '4.2408']\n",
      "Empty cell found in row: ['4684', 'CA-2016-159912', '8/29/2016', '9/3/2016', 'Standard Class', 'GB-14530', 'George Bell', 'Corporate', 'United States', 'Philadelphia', 'Pennsylvania', '19120', 'East', 'FUR-TA-10004152', 'Furniture', 'Tables', 'Barricks 18\" x 48\" Non-Folding Utility Table with Bottom Storage Shelf', '', '4', '', '-56.448']\n",
      "Empty cell found in row: ['4692', 'CA-2014-138681', '12/20/2014', '12/22/2014', 'First Class', 'CT-11995', 'Carol Triggs', 'Consumer', 'United States', 'Tucson', 'Arizona', '85705', 'West', 'FUR-CH-10004860', 'Furniture', 'Chairs', 'Global Low Back Tilter Chair', '', '3', '', '-42.4116']\n",
      "Empty cell found in row: ['4825', 'CA-2016-140018', '11/21/2016', '11/26/2016', 'Standard Class', 'CK-12205', 'Chloris Kastensmidt', 'Consumer', 'United States', 'Columbus', 'Ohio', '43229', 'East', 'FUR-CH-10003817', 'Furniture', 'Chairs', 'Global Value Steno Chair, Gray', '', '3', '', '-9.111']\n",
      "Empty cell found in row: ['4858', 'CA-2015-137526', '1/13/2015', '1/17/2015', 'Standard Class', 'PB-19150', 'Philip Brown', 'Consumer', 'United States', 'Los Angeles', 'California', '90004', 'West', 'FUR-FU-10001861', 'Furniture', 'Furnishings', 'Floodlight Indoor Halogen Bulbs, 1 Bulb per Pack, 60 Watts', '', '4', '', '38.024']\n",
      "Empty cell found in row: ['4898', 'US-2014-122021', '10/15/2014', '10/17/2014', 'First Class', 'AC-10660', 'Anna Chung', 'Consumer', 'United States', 'Parma', 'Ohio', '44134', 'East', 'FUR-CH-10003761', 'Furniture', 'Chairs', 'Global Italian Leather Office Chair', '', '2', '', '-7.8588']\n",
      "Empty cell found in row: ['5106', 'CA-2014-116568', '12/14/2014', '12/20/2014', 'Standard Class', 'BM-11785', 'Bryan Mills', 'Consumer', 'United States', 'Deltona', 'Florida', '32725', 'South', 'FUR-CH-10002439', 'Furniture', 'Chairs', 'Iceberg Nesting Folding Chair, 19w x 6d x 43h', '', '4', '', '13.9728']\n",
      "Empty cell found in row: ['5228', 'CA-2016-119865', '6/21/2016', '6/26/2016', 'Standard Class', 'AS-10090', 'Adam Shillingsburg', 'Consumer', 'United States', 'New York City', 'New York', '10011', 'East', 'FUR-BO-10003272', 'Furniture', 'Bookcases', \"O'Sullivan Living Dimensions 5-Shelf Bookcases\", '', '2', '', '-44.196']\n",
      "Empty cell found in row: ['5245', 'CA-2016-156265', '8/2/2016', '8/4/2016', 'Second Class', 'BF-11020', 'Barry Franz\\x9asisch', 'Corporate', 'United States', 'Los Angeles', 'California', '90032', 'West', 'FUR-TA-10001691', 'Furniture', 'Tables', 'Barricks Non-Folding Utility Table with Steel Legs, Laminate Tops', '', '2', '', '15.3522']\n",
      "Empty cell found in row: ['5282', 'CA-2015-105158', '9/5/2015', '9/10/2015', 'Standard Class', 'SP-20860', 'Sung Pak', 'Corporate', 'United States', 'Rochester', 'Minnesota', '55901', 'Central', 'FUR-FU-10001706', 'Furniture', 'Furnishings', 'Longer-Life Soft White Bulbs', '', '2', '', '2.9568']\n",
      "Empty cell found in row: ['5334', 'CA-2014-103331', '8/26/2014', '9/1/2014', 'Standard Class', 'KB-16315', 'Karl Braun', 'Consumer', 'United States', 'Newark', 'Delaware', '19711', 'East', 'FUR-FU-10001731', 'Furniture', 'Furnishings', 'Acrylic Self-Standing Desk Frames', '', '4', '', '4.0584']\n",
      "Empty cell found in row: ['5495', 'CA-2014-105249', '11/28/2014', '11/28/2014', 'Same Day', 'DH-13675', 'Duane Huffman', 'Home Office', 'United States', 'San Francisco', 'California', '94122', 'West', 'FUR-BO-10000330', 'Furniture', 'Bookcases', 'Sauder Camden County Barrister Bookcase, Planked Cherry Finish', '', '4', '', '-4.8392']\n",
      "Empty cell found in row: ['5577', 'CA-2016-136686', '12/12/2016', '12/16/2016', 'Standard Class', 'RF-19840', 'Roy Franz\\x9asisch', 'Consumer', 'United States', 'Pasadena', 'California', '91104', 'West', 'FUR-FU-10004864', 'Furniture', 'Furnishings', 'Howard Miller 14-1/2\" Diameter Chrome Round Wall Clock', '', '6', '', '122.7648']\n",
      "Empty cell found in row: ['5622', 'US-2016-124163', '9/25/2016', '9/30/2016', 'Standard Class', 'SC-20695', 'Steve Chapman', 'Corporate', 'United States', 'La Crosse', 'Wisconsin', '54601', 'Central', 'FUR-CH-10004218', 'Furniture', 'Chairs', \"Global Fabric Manager's Chair, Dark Gray\", '', '2', '', '50.49']\n",
      "Empty cell found in row: ['5690', 'CA-2015-119550', '12/26/2015', '12/31/2015', 'Standard Class', 'RB-19705', 'Roger Barcio', 'Home Office', 'United States', 'Houston', 'Texas', '77070', 'Central', 'FUR-CH-10002044', 'Furniture', 'Chairs', 'Office Star - Contemporary Task Swivel chair with 2-way adjustable arms, Plum', '', '3', '', '-90.3762']\n",
      "Empty cell found in row: ['5981', 'CA-2014-117765', '9/7/2014', '9/13/2014', 'Standard Class', 'RB-19465', 'Rick Bensley', 'Home Office', 'United States', 'Tulsa', 'Oklahoma', '74133', 'Central', 'FUR-CH-10004698', 'Furniture', 'Chairs', 'Padded Folding Chairs, Black, 4/Carton', '', '2', '', '45.3488']\n",
      "Empty cell found in row: ['6069', 'CA-2017-166695', '5/20/2017', '5/24/2017', 'Standard Class', 'CC-12430', 'Chuck Clark', 'Home Office', 'United States', 'Lakewood', 'California', '90712', 'West', 'FUR-FU-10002191', 'Furniture', 'Furnishings', 'G.E. Halogen Desk Lamp Bulbs', '', '1', '', '3.3504']\n",
      "Empty cell found in row: ['6139', 'CA-2014-131247', '3/30/2014', '4/4/2014', 'Standard Class', 'GA-14725', 'Guy Armstrong', 'Consumer', 'United States', 'San Francisco', 'California', '94110', 'West', 'FUR-BO-10001337', 'Furniture', 'Bookcases', \"O'Sullivan Living Dimensions 2-Shelf Bookcases\", '', '2', '', '-12.098']\n",
      "Empty cell found in row: ['6226', 'CA-2015-133445', '10/5/2015', '10/9/2015', 'Standard Class', 'JF-15490', 'Jeremy Farry', 'Consumer', 'United States', 'Portland', 'Oregon', '97206', 'West', 'FUR-BO-10003660', 'Furniture', 'Bookcases', 'Bush Cubix Collection Bookcases, Fully Assembled', '', '1', '', '-103.8606']\n",
      "Empty cell found in row: ['6291', 'US-2015-139675', '3/13/2015', '3/18/2015', 'Second Class', 'NF-18595', 'Nicole Fjeld', 'Home Office', 'United States', 'Chico', 'California', '95928', 'West', 'FUR-FU-10001979', 'Furniture', 'Furnishings', 'Dana Halogen Swing-Arm Architect Lamp', '', '8', '', '91.7728']\n",
      "Empty cell found in row: ['6463', 'US-2017-133361', '5/14/2017', '5/17/2017', 'First Class', 'AJ-10780', 'Anthony Jacobs', 'Corporate', 'United States', 'Baltimore', 'Maryland', '21215', 'East', 'FUR-CH-10003298', 'Furniture', 'Chairs', 'Office Star - Contemporary Task Swivel chair with Loop Arms, Charcoal', '', '2', '', '23.5764']\n",
      "Empty cell found in row: ['6577', 'CA-2017-123085', '3/3/2017', '3/8/2017', 'Standard Class', 'EJ-13720', 'Ed Jacobs', 'Consumer', 'United States', 'Los Angeles', 'California', '90008', 'West', 'FUR-CH-10003968', 'Furniture', 'Chairs', 'Novimex Turbo Task Chair', '', '3', '', '-17.0352']\n",
      "Empty cell found in row: ['6602', 'CA-2014-154095', '12/2/2014', '12/7/2014', 'Standard Class', 'ON-18715', 'Odella Nelson', 'Corporate', 'United States', 'Clinton', 'Maryland', '20735', 'East', 'FUR-CH-10004754', 'Furniture', 'Chairs', 'Global Stack Chair with Arms, Black', '', '8', '', '64.7568']\n",
      "Empty cell found in row: ['6626', 'CA-2015-141250', '1/19/2015', '1/23/2015', 'Standard Class', 'PM-18940', 'Paul MacIntyre', 'Consumer', 'United States', 'Texas City', 'Texas', '77590', 'Central', 'FUR-CH-10004875', 'Furniture', 'Chairs', 'Harbour Creations 67200 Series Stacking Chairs', '', '4', '', '-8.5416']\n",
      "Empty cell found in row: ['6766', 'CA-2017-100615', '4/20/2017', '4/24/2017', 'Standard Class', 'SJ-20215', 'Sarah Jordon', 'Consumer', 'United States', 'Chicago', 'Illinois', '60653', 'Central', 'FUR-CH-10002602', 'Furniture', 'Chairs', 'DMI Arturo Collection Mission-style Design Wood Chair', '', '3', '', '-18.1176']\n",
      "Empty cell found in row: ['6785', 'CA-2017-121293', '7/25/2017', '7/28/2017', 'Second Class', 'JC-15775', 'John Castell', 'Consumer', 'United States', 'Philadelphia', 'Pennsylvania', '19143', 'East', 'FUR-TA-10001771', 'Furniture', 'Tables', 'Bush Cubix Conference Tables, Fully Assembled', '', '1', '', '-34.647']\n",
      "Empty cell found in row: ['6878', 'US-2015-123918', '10/15/2015', '10/15/2015', 'Same Day', 'CG-12520', 'Claire Gute', 'Consumer', 'United States', 'Dallas', 'Texas', '75217', 'Central', 'FUR-FU-10004952', 'Furniture', 'Furnishings', 'C-Line Cubicle Keepers Polyproplyene Holder w/Velcro Back, 8-1/2x11, 25/Bx', '', '6', '', '-95.2476']\n",
      "Empty cell found in row: ['6885', 'CA-2015-120677', '5/31/2015', '6/4/2015', 'Standard Class', 'BD-11320', 'Bill Donatelli', 'Consumer', 'United States', 'Minneapolis', 'Minnesota', '55407', 'Central', 'FUR-CH-10002320', 'Furniture', 'Chairs', 'Hon Pagoda Stacking Chairs', '', '8', '', '770.352']\n",
      "Empty cell found in row: ['6977', 'CA-2015-112144', '6/28/2015', '7/2/2015', 'Standard Class', 'CY-12745', 'Craig Yedwab', 'Corporate', 'United States', 'Gilbert', 'Arizona', '85234', 'West', 'FUR-FU-10004306', 'Furniture', 'Furnishings', 'Electrix Halogen Magnifier Lamp', '', '4', '', '46.632']\n",
      "Empty cell found in row: ['7055', 'CA-2016-165330', '12/11/2016', '12/11/2016', 'Same Day', 'WB-21850', 'William Brown', 'Consumer', 'United States', 'Anaheim', 'California', '92804', 'West', 'FUR-CH-10003774', 'Furniture', 'Chairs', \"Global Wood Trimmed Manager's Task Chair, Khaki\", '', '5', '', '-31.843']\n",
      "Empty cell found in row: ['7115', 'US-2016-102239', '5/5/2016', '5/6/2016', 'First Class', 'LW-16990', 'Lindsay Williams', 'Corporate', 'United States', 'Henderson', 'Nevada', '89015', 'West', 'FUR-TA-10003392', 'Furniture', 'Tables', 'Global Adaptabilities Conference Tables', '', '6', '', '320.3172']\n",
      "Empty cell found in row: ['7188', 'CA-2017-133102', '8/17/2017', '8/24/2017', 'Standard Class', 'ED-13885', 'Emily Ducich', 'Home Office', 'United States', 'Houston', 'Texas', '77095', 'Central', 'FUR-FU-10003247', 'Furniture', 'Furnishings', '36X48 HARDFLOOR CHAIRMAT', '', '2', '', '-22.2388']\n",
      "Empty cell found in row: ['7526', 'CA-2014-125731', '9/10/2014', '9/16/2014', 'Standard Class', 'CL-12565', 'Clay Ludtke', 'Consumer', 'United States', 'Gresham', 'Oregon', '97030', 'West', 'FUR-CH-10003973', 'Furniture', 'Chairs', 'GuestStacker Chair with Chrome Finish Legs', '', '5', '', '148.704']\n",
      "Empty cell found in row: ['7589', 'CA-2017-122945', '11/16/2017', '11/22/2017', 'Standard Class', 'MB-18085', 'Mick Brown', 'Consumer', 'United States', 'Roseville', 'California', '95661', 'West', 'FUR-FU-10001196', 'Furniture', 'Furnishings', 'DAX Cubicle Frames - 8x10', '', '3', '', '5.193']\n",
      "Empty cell found in row: ['7591', 'CA-2016-158778', '9/5/2016', '9/9/2016', 'Standard Class', 'DB-13210', 'Dean Braden', 'Consumer', 'United States', 'Philadelphia', 'Pennsylvania', '19134', 'East', 'FUR-FU-10000260', 'Furniture', 'Furnishings', '6\" Cubicle Wall Clock, Black', '', '9', '', '11.6496']\n",
      "Empty cell found in row: ['7705', 'CA-2016-114601', '8/26/2016', '9/2/2016', 'Standard Class', 'AA-10480', 'Andrew Allen', 'Consumer', 'United States', 'Detroit', 'Michigan', '48234', 'Central', 'FUR-TA-10004147', 'Furniture', 'Tables', 'Hon 4060 Series Tables', '', '4', '', '98.5248']\n",
      "Empty cell found in row: ['7724', 'CA-2015-139374', '9/10/2015', '9/14/2015', 'Standard Class', 'AR-10345', 'Alex Russell', 'Corporate', 'United States', 'Austin', 'Texas', '78745', 'Central', 'FUR-CH-10003981', 'Furniture', 'Chairs', 'Global Commerce Series Low-Back Swivel/Tilt Chairs', '', '1', '', '-2.5698']\n",
      "Empty cell found in row: ['7999', 'US-2014-148194', '5/4/2014', '5/7/2014', 'First Class', 'BS-11365', 'Bill Shonely', 'Corporate', 'United States', 'Seattle', 'Washington', '98105', 'West', 'FUR-FU-10001852', 'Furniture', 'Furnishings', 'Eldon Regeneration Recycled Desk Accessories, Smoke', '', '7', '', '3.8976']\n",
      "Empty cell found in row: ['8035', 'CA-2015-119690', '6/25/2015', '6/28/2015', 'First Class', 'MV-17485', 'Mark Van Huff', 'Consumer', 'United States', 'Houston', 'Texas', '77041', 'Central', 'FUR-FU-10004587', 'Furniture', 'Furnishings', 'GE General Use Halogen Bulbs, 100 Watts, 1 Bulb per Pack', '', '9', '', '-20.7306']\n",
      "Empty cell found in row: ['8044', 'US-2017-133081', '3/11/2017', '3/15/2017', 'Standard Class', 'PV-18985', 'Paul Van Hugh', 'Home Office', 'United States', 'Cambridge', 'Massachusetts', '2138', 'East', 'FUR-FU-10001379', 'Furniture', 'Furnishings', 'Executive Impressions 16-1/2\" Circular Wall Clock', '', '1', '', '11.7568']\n",
      "Empty cell found in row: ['8077', 'CA-2015-106187', '6/23/2015', '6/29/2015', 'Standard Class', 'RF-19345', 'Randy Ferguson', 'Corporate', 'United States', 'East Point', 'Georgia', '30344', 'South', 'FUR-FU-10000794', 'Furniture', 'Furnishings', 'Eldon Stackable Tray, Side-Load, Legal, Smoke', '', '3', '', '9.3228']\n",
      "Empty cell found in row: ['8144', 'CA-2016-100993', '2/5/2016', '2/10/2016', 'Standard Class', 'AZ-10750', 'Annie Zypern', 'Consumer', 'United States', 'San Diego', 'California', '92037', 'West', 'FUR-TA-10001095', 'Furniture', 'Tables', 'Chromcraft Round Conference Tables', '', '4', '', '6.9716']\n",
      "Empty cell found in row: ['8236', 'CA-2017-102204', '5/1/2017', '5/6/2017', 'Standard Class', 'CJ-12010', 'Caroline Jumper', 'Consumer', 'United States', 'Jacksonville', 'Florida', '32216', 'South', 'FUR-TA-10001889', 'Furniture', 'Tables', 'Bush Advantage Collection Racetrack Conference Table', '', '4', '', '-458.1468']\n",
      "Empty cell found in row: ['8303', 'US-2017-167318', '7/26/2017', '8/1/2017', 'Standard Class', 'GZ-14545', 'George Zrebassa', 'Corporate', 'United States', 'Los Angeles', 'California', '90036', 'West', 'FUR-CH-10000665', 'Furniture', 'Chairs', 'Global Airflow Leather Mesh Back Chair, Black', '', '3', '', '45.294']\n",
      "Empty cell found in row: ['8370', 'CA-2016-118745', '6/11/2016', '6/16/2016', 'Standard Class', 'SV-20365', 'Seth Vernon', 'Consumer', 'United States', 'Los Angeles', 'California', '90049', 'West', 'FUR-TA-10003473', 'Furniture', 'Tables', 'Bretford Rectangular Conference Table Tops', '', '3', '', '33.8517']\n",
      "Empty cell found in row: ['8392', 'CA-2017-110625', '12/23/2017', '12/30/2017', 'Standard Class', 'JB-16045', 'Julia Barnett', 'Home Office', 'United States', 'Danbury', 'Connecticut', '6810', 'East', 'FUR-FU-10001473', 'Furniture', 'Furnishings', 'DAX Wood Document Frame', '', '2', '', '9.8856']\n",
      "Empty cell found in row: ['8521', 'CA-2017-118003', '12/4/2017', '12/10/2017', 'Standard Class', 'DO-13645', \"Doug O'Connell\", 'Consumer', 'United States', 'Paterson', 'New Jersey', '7501', 'East', 'FUR-CH-10004860', 'Furniture', 'Chairs', 'Global Low Back Tilter Chair', '', '3', '', '18.1764']\n",
      "Empty cell found in row: ['8638', 'CA-2017-151281', '4/27/2017', '5/2/2017', 'Standard Class', 'HM-14980', 'Henry MacAllister', 'Consumer', 'United States', 'Seattle', 'Washington', '98105', 'West', 'FUR-FU-10000397', 'Furniture', 'Furnishings', 'Luxo Economy Swing Arm Lamp', '', '7', '', '39.0824']\n",
      "Empty cell found in row: ['8665', 'CA-2017-126634', '3/30/2017', '4/1/2017', 'Second Class', 'AB-10165', 'Alan Barnes', 'Consumer', 'United States', 'Lakewood', 'California', '90712', 'West', 'FUR-FU-10004973', 'Furniture', 'Furnishings', 'Flat Face Poster Frame', '', '5', '', '39.564']\n",
      "Empty cell found in row: ['8677', 'CA-2017-163265', '2/16/2017', '2/21/2017', 'Standard Class', 'JS-16030', 'Joy Smith', 'Consumer', 'United States', 'Decatur', 'Illinois', '62521', 'Central', 'FUR-FU-10004270', 'Furniture', 'Furnishings', 'Executive Impressions 13\" Clairmont Wall Clock', '', '1', '', '-3.6537']\n",
      "Empty cell found in row: ['8718', 'CA-2016-120824', '6/12/2016', '6/16/2016', 'Second Class', 'AW-10930', 'Arthur Wiediger', 'Home Office', 'United States', 'Houston', 'Texas', '77070', 'Central', 'FUR-FU-10001424', 'Furniture', 'Furnishings', 'Dax Clear Box Frame', '', '2', '', '-4.5396']\n",
      "Empty cell found in row: ['8728', 'CA-2015-103870', '12/27/2015', '12/31/2015', 'Standard Class', 'SP-20860', 'Sung Pak', 'Corporate', 'United States', 'Murfreesboro', 'Tennessee', '37130', 'South', 'FUR-FU-10002030', 'Furniture', 'Furnishings', 'Executive Impressions 14\" Contract Wall Clock with Quartz Movement', '', '3', '', '16.0056']\n",
      "Empty cell found in row: ['8789', 'CA-2017-126914', '6/15/2017', '6/19/2017', 'Standard Class', 'JE-15715', 'Joe Elijah', 'Consumer', 'United States', 'Monroe', 'North Carolina', '28110', 'South', 'FUR-CH-10000847', 'Furniture', 'Chairs', \"Global Executive Mid-Back Manager's Chair\", '', '3', '', '52.3764']\n",
      "Empty cell found in row: ['8790', 'CA-2017-126914', '6/15/2017', '6/19/2017', 'Standard Class', 'JE-15715', 'Joe Elijah', 'Consumer', 'United States', 'Monroe', 'North Carolina', '28110', 'South', 'FUR-BO-10000468', 'Furniture', 'Bookcases', \"O'Sullivan 2-Shelf Heavy-Duty Bookcases\", '', '2', '', '-3.8864']\n",
      "Empty cell found in row: ['8930', 'US-2015-168704', '4/13/2015', '4/17/2015', 'Standard Class', 'FP-14320', 'Frank Preis', 'Consumer', 'United States', 'Huntsville', 'Texas', '77340', 'Central', 'FUR-TA-10002530', 'Furniture', 'Tables', 'Iceberg OfficeWorks 42\" Round Tables', '', '2', '', '-45.294']\n",
      "Empty cell found in row: ['8990', 'US-2015-128587', '12/24/2015', '12/30/2015', 'Standard Class', 'HM-14860', 'Harry Marie', 'Corporate', 'United States', 'Springfield', 'Missouri', '65807', 'Central', 'FUR-FU-10003026', 'Furniture', 'Furnishings', 'Eldon Regeneration Recycled Desk Accessories, Black', '', '2', '', '3.7752']\n",
      "Empty cell found in row: ['9359', 'CA-2016-168046', '1/25/2016', '1/28/2016', 'Second Class', 'JD-15895', 'Jonathan Doherty', 'Corporate', 'United States', 'New York City', 'New York', '10024', 'East', 'FUR-TA-10001095', 'Furniture', 'Tables', 'Chromcraft Round Conference Tables', '', '3', '', '-99.3453']\n",
      "Empty cell found in row: ['9593', 'US-2016-105452', '7/28/2016', '8/1/2016', 'Standard Class', 'BF-11005', 'Barry Franz', 'Home Office', 'United States', 'Pasadena', 'Texas', '77506', 'Central', 'FUR-FU-10003806', 'Furniture', 'Furnishings', 'Tenex Chairmat w/ Average Lip, 45\" x 53\"', '', '5', '', '-378.4']\n",
      "Empty cell found in row: ['9698', 'CA-2016-122511', '3/11/2016', '3/11/2016', 'Same Day', 'BT-11485', 'Brad Thomas', 'Home Office', 'United States', 'Philadelphia', 'Pennsylvania', '19140', 'East', 'FUR-FU-10001037', 'Furniture', 'Furnishings', 'DAX Charcoal/Nickel-Tone Document Frame, 5 x 7', '', '4', '', '9.48']\n",
      "Empty cell found in row: ['9805', 'CA-2015-122973', '7/18/2015', '7/20/2015', 'Second Class', 'PJ-19015', 'Pauline Johnson', 'Consumer', 'United States', 'New York City', 'New York', '10024', 'East', 'FUR-FU-10002364', 'Furniture', 'Furnishings', 'Eldon Expressions Wood Desk Accessories, Oak', '', '1', '', '2.1402']\n"
     ]
    }
   ],
   "source": [
    "# To show where the missing spaces are  \n",
    "try:\n",
    "  with open(folder_path, 'r') as csvfile:\n",
    "    reader = csv.reader(csvfile)\n",
    "    for row in reader:\n",
    "      if any(cell == '' for cell in row):\n",
    "        print(\"Empty cell found in row:\", row)\n",
    "except FileNotFoundError:\n",
    "  print(\"Error: File not found!\")\n",
    "  exit()\n"
   ]
  },
  {
   "cell_type": "markdown",
   "metadata": {},
   "source": [
    "Dealig with the missing data\n",
    "There are many ways to deal with missing data., but first why deal with missing data?\n"
   ]
  },
  {
   "cell_type": "code",
   "execution_count": 26,
   "metadata": {},
   "outputs": [
    {
     "data": {
      "text/plain": [
       "707"
      ]
     },
     "execution_count": 26,
     "metadata": {},
     "output_type": "execute_result"
    }
   ],
   "source": [
    "dataframe['Customer Name'].nunique()"
   ]
  }
 ],
 "metadata": {
  "kernelspec": {
   "display_name": "universal",
   "language": "python",
   "name": "python3"
  },
  "language_info": {
   "codemirror_mode": {
    "name": "ipython",
    "version": 3
   },
   "file_extension": ".py",
   "mimetype": "text/x-python",
   "name": "python",
   "nbconvert_exporter": "python",
   "pygments_lexer": "ipython3",
   "version": "3.11.2"
  }
 },
 "nbformat": 4,
 "nbformat_minor": 2
}
